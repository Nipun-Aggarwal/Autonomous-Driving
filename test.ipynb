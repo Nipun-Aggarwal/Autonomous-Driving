{
 "cells": [
  {
   "cell_type": "code",
   "execution_count": 1,
   "metadata": {},
   "outputs": [],
   "source": [
    "# Imports\n",
    "from ultralytics import YOLO"
   ]
  },
  {
   "cell_type": "code",
   "execution_count": 2,
   "metadata": {},
   "outputs": [],
   "source": [
    "# #Load the saved model\n",
    "# model = YOLO('yolov8n-kitti/train/weights/best.pt')\n",
    "# print(\"Model Loaded\")\n",
    "\n",
    "# results = model(\"yolov8n-kitti/test/000138.png\",save=True)\n",
    "# print(\"Result saved\")"
   ]
  },
  {
   "cell_type": "code",
   "execution_count": null,
   "metadata": {},
   "outputs": [],
   "source": [
    "#Load the pretrained model\n",
    "# model = YOLO('best.pt')\n",
    "# model = YOLO('yolov10n.pt')\n",
    "model = YOLO('best_yolov10n.pt')\n",
    "print(\"Model Loaded\")\n",
    "\n",
    "# results = model(\"test/007458.png\",save=True)\n",
    "# results = model(\"test/IMG_20240913_201112.jpg\",save=True)\n",
    "# results = model(\"test/000138.png\",save=True)\n",
    "results = model(\"test/IMG_2754.MOV\",save=True)\n",
    "print(\"Result saved\")"
   ]
  }
 ],
 "metadata": {
  "kernelspec": {
   "display_name": "Python 3",
   "language": "python",
   "name": "python3"
  },
  "language_info": {
   "codemirror_mode": {
    "name": "ipython",
    "version": 3
   },
   "file_extension": ".py",
   "mimetype": "text/x-python",
   "name": "python",
   "nbconvert_exporter": "python",
   "pygments_lexer": "ipython3",
   "version": "3.12.2"
  }
 },
 "nbformat": 4,
 "nbformat_minor": 2
}

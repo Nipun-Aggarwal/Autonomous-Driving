{
  "cells": [
    {
      "cell_type": "code",
      "execution_count": 1,
      "id": "JFVWgw8cNG3c",
      "metadata": {
        "colab": {
          "base_uri": "https://localhost:8080/"
        },
        "id": "JFVWgw8cNG3c",
        "outputId": "f90b9982-9878-4fcf-c588-bbb957cb0f53"
      },
      "outputs": [
        {
          "name": "stdout",
          "output_type": "stream",
          "text": [
            "Downloading...\n",
            "From (original): https://drive.google.com/uc?id=1Np1_s9l2NLqNtm2C8cBBHZlo2tZ0D76C\n",
            "From (redirected): https://drive.google.com/uc?id=1Np1_s9l2NLqNtm2C8cBBHZlo2tZ0D76C&confirm=t&uuid=a2a360c5-84e1-4fb4-9bf0-5dbe35effbff\n",
            "To: /content/dataset.zip\n",
            "100% 6.11G/6.11G [01:16<00:00, 80.3MB/s]\n",
            "Extracted all files to /content/kaggle\n"
          ]
        }
      ],
      "source": [
        "# Step 1: Install gdown if not already installed\n",
        "!pip install gdown --quiet\n",
        "\n",
        "# Step 2: Download the zip file using gdown\n",
        "# Replace 'YOUR_FILE_ID' with the actual file ID from the Google Drive link\n",
        "# Small Dataset\n",
        "# file_id = '1A-xByF3MVRcGn3nR8u-kgxS7sUaclbBm'\n",
        "# Big Dataset\n",
        "file_id = '1Np1_s9l2NLqNtm2C8cBBHZlo2tZ0D76C'\n",
        "gdown_url = f'https://drive.google.com/uc?id={file_id}'\n",
        "output = 'dataset.zip'  # Replace 'file_name.zip' with your desired output file name\n",
        "\n",
        "!gdown {gdown_url} -O {output}\n",
        "\n",
        "# Step 3: Unzip the file if needed\n",
        "import zipfile\n",
        "import os\n",
        "\n",
        "destination_folder = '/content/kaggle'\n",
        "\n",
        "# Create the directory if it does not exist\n",
        "if not os.path.exists(destination_folder):\n",
        "    os.makedirs(destination_folder)\n",
        "\n",
        "with zipfile.ZipFile(output, 'r') as zip_ref:\n",
        "    zip_ref.extractall(destination_folder)  # Replace 'destination_folder' with your desired extraction path\n",
        "\n",
        "print(f'Extracted all files to {destination_folder}')\n"
      ]
    },
    {
      "cell_type": "code",
      "execution_count": null,
      "id": "VpL9lBKknIAH",
      "metadata": {
        "id": "VpL9lBKknIAH"
      },
      "outputs": [],
      "source": [
        "import zipfile\n",
        "import os\n",
        "\n",
        "# Define the path to the zip file\n",
        "zip_file_path = '/content/kaggle.zip'  # Adjust the path if needed\n",
        "\n",
        "# Define the directory where you want to extract the files\n",
        "extract_to = '/content/kaggle'  # You can specify a different directory if desired\n",
        "\n",
        "# Create the directory if it does not exist\n",
        "if not os.path.exists(extract_to):\n",
        "    os.makedirs(extract_to)\n",
        "\n",
        "# Extract the zip file\n",
        "with zipfile.ZipFile(zip_file_path, 'r') as zip_ref:\n",
        "    zip_ref.extractall(extract_to)\n",
        "\n",
        "print(f'Extracted all files to {extract_to}')\n"
      ]
    },
    {
      "cell_type": "markdown",
      "id": "8db3e2e2",
      "metadata": {
        "id": "8db3e2e2"
      },
      "source": [
        "# Pip Installs"
      ]
    },
    {
      "cell_type": "code",
      "execution_count": 2,
      "id": "8f0ad8ec",
      "metadata": {
        "colab": {
          "base_uri": "https://localhost:8080/"
        },
        "id": "8f0ad8ec",
        "outputId": "366eeed8-6fe0-47fd-d308-b75b14fa4fa2"
      },
      "outputs": [
        {
          "name": "stdout",
          "output_type": "stream",
          "text": [
            "\u001b[33mWARNING: Skipping ultralytics as it is not installed.\u001b[0m\u001b[33m\n",
            "\u001b[0m\u001b[33mWARNING: Skipping optuna as it is not installed.\u001b[0m\u001b[33m\n",
            "\u001b[0mLooking in indexes: https://download.pytorch.org/whl/cu118\n",
            "Requirement already satisfied: torch in /usr/local/lib/python3.10/dist-packages (2.4.1+cu121)\n",
            "Requirement already satisfied: torchvision in /usr/local/lib/python3.10/dist-packages (0.19.1+cu121)\n",
            "Requirement already satisfied: torchaudio in /usr/local/lib/python3.10/dist-packages (2.4.1+cu121)\n",
            "Requirement already satisfied: filelock in /usr/local/lib/python3.10/dist-packages (from torch) (3.16.1)\n",
            "Requirement already satisfied: typing-extensions>=4.8.0 in /usr/local/lib/python3.10/dist-packages (from torch) (4.12.2)\n",
            "Requirement already satisfied: sympy in /usr/local/lib/python3.10/dist-packages (from torch) (1.13.2)\n",
            "Requirement already satisfied: networkx in /usr/local/lib/python3.10/dist-packages (from torch) (3.3)\n",
            "Requirement already satisfied: jinja2 in /usr/local/lib/python3.10/dist-packages (from torch) (3.1.4)\n",
            "Requirement already satisfied: fsspec in /usr/local/lib/python3.10/dist-packages (from torch) (2024.6.1)\n",
            "Requirement already satisfied: numpy in /usr/local/lib/python3.10/dist-packages (from torchvision) (1.26.4)\n",
            "Requirement already satisfied: pillow!=8.3.*,>=5.3.0 in /usr/local/lib/python3.10/dist-packages (from torchvision) (10.4.0)\n",
            "Requirement already satisfied: MarkupSafe>=2.0 in /usr/local/lib/python3.10/dist-packages (from jinja2->torch) (2.1.5)\n",
            "Requirement already satisfied: mpmath<1.4,>=1.1.0 in /usr/local/lib/python3.10/dist-packages (from sympy->torch) (1.3.0)\n",
            "\u001b[2K   \u001b[90m━━━━━━━━━━━━━━━━━━━━━━━━━━━━━━━━━━━━━━━━\u001b[0m \u001b[32m874.0/874.0 kB\u001b[0m \u001b[31m14.8 MB/s\u001b[0m eta \u001b[36m0:00:00\u001b[0m\n",
            "\u001b[?25hCollecting optuna\n",
            "  Downloading optuna-4.0.0-py3-none-any.whl.metadata (16 kB)\n",
            "Collecting alembic>=1.5.0 (from optuna)\n",
            "  Downloading alembic-1.13.2-py3-none-any.whl.metadata (7.4 kB)\n",
            "Collecting colorlog (from optuna)\n",
            "  Downloading colorlog-6.8.2-py3-none-any.whl.metadata (10 kB)\n",
            "Requirement already satisfied: numpy in /usr/local/lib/python3.10/dist-packages (from optuna) (1.26.4)\n",
            "Requirement already satisfied: packaging>=20.0 in /usr/local/lib/python3.10/dist-packages (from optuna) (24.1)\n",
            "Requirement already satisfied: sqlalchemy>=1.3.0 in /usr/local/lib/python3.10/dist-packages (from optuna) (2.0.35)\n",
            "Requirement already satisfied: tqdm in /usr/local/lib/python3.10/dist-packages (from optuna) (4.66.5)\n",
            "Requirement already satisfied: PyYAML in /usr/local/lib/python3.10/dist-packages (from optuna) (6.0.2)\n",
            "Collecting Mako (from alembic>=1.5.0->optuna)\n",
            "  Downloading Mako-1.3.5-py3-none-any.whl.metadata (2.9 kB)\n",
            "Requirement already satisfied: typing-extensions>=4 in /usr/local/lib/python3.10/dist-packages (from alembic>=1.5.0->optuna) (4.12.2)\n",
            "Requirement already satisfied: greenlet!=0.4.17 in /usr/local/lib/python3.10/dist-packages (from sqlalchemy>=1.3.0->optuna) (3.1.0)\n",
            "Requirement already satisfied: MarkupSafe>=0.9.2 in /usr/local/lib/python3.10/dist-packages (from Mako->alembic>=1.5.0->optuna) (2.1.5)\n",
            "Downloading optuna-4.0.0-py3-none-any.whl (362 kB)\n",
            "\u001b[2K   \u001b[90m━━━━━━━━━━━━━━━━━━━━━━━━━━━━━━━━━━━━━━━━\u001b[0m \u001b[32m362.8/362.8 kB\u001b[0m \u001b[31m5.6 MB/s\u001b[0m eta \u001b[36m0:00:00\u001b[0m\n",
            "\u001b[?25hDownloading alembic-1.13.2-py3-none-any.whl (232 kB)\n",
            "\u001b[2K   \u001b[90m━━━━━━━━━━━━━━━━━━━━━━━━━━━━━━━━━━━━━━━━\u001b[0m \u001b[32m233.0/233.0 kB\u001b[0m \u001b[31m14.8 MB/s\u001b[0m eta \u001b[36m0:00:00\u001b[0m\n",
            "\u001b[?25hDownloading colorlog-6.8.2-py3-none-any.whl (11 kB)\n",
            "Downloading Mako-1.3.5-py3-none-any.whl (78 kB)\n",
            "\u001b[2K   \u001b[90m━━━━━━━━━━━━━━━━━━━━━━━━━━━━━━━━━━━━━━━━\u001b[0m \u001b[32m78.6/78.6 kB\u001b[0m \u001b[31m4.4 MB/s\u001b[0m eta \u001b[36m0:00:00\u001b[0m\n",
            "\u001b[?25hInstalling collected packages: Mako, colorlog, alembic, optuna\n",
            "Successfully installed Mako-1.3.5 alembic-1.13.2 colorlog-6.8.2 optuna-4.0.0\n"
          ]
        }
      ],
      "source": [
        "# Unistall previous versions\n",
        "# !pip uninstall torch torchvision torchaudio -y\n",
        "!pip uninstall ultralytics -y\n",
        "!pip uninstall optuna -y\n",
        "\n",
        "# Install apecific versions\n",
        "!pip install torch torchvision torchaudio --index-url https://download.pytorch.org/whl/cu118\n",
        "!pip install ultralytics -q\n",
        "!pip install optuna"
      ]
    },
    {
      "cell_type": "markdown",
      "id": "b39d42b4",
      "metadata": {
        "id": "b39d42b4",
        "papermill": {
          "duration": 0.006906,
          "end_time": "2023-08-28T07:05:55.286751",
          "exception": false,
          "start_time": "2023-08-28T07:05:55.279845",
          "status": "completed"
        },
        "tags": []
      },
      "source": [
        "# Imports"
      ]
    },
    {
      "cell_type": "code",
      "execution_count": 3,
      "id": "c4ba61f7",
      "metadata": {
        "colab": {
          "base_uri": "https://localhost:8080/",
          "height": 532
        },
        "id": "c4ba61f7",
        "outputId": "25036a7f-9787-4565-abce-a984c1481f1a"
      },
      "outputs": [
        {
          "name": "stdout",
          "output_type": "stream",
          "text": [
            "2.4.1+cu121\n",
            "Creating new Ultralytics Settings v0.0.6 file ✅ \n",
            "View Ultralytics Settings with 'yolo settings' or at '/root/.config/Ultralytics/settings.json'\n",
            "Update Settings with 'yolo settings key=value', i.e. 'yolo settings runs_dir=path/to/dir'. For help see https://docs.ultralytics.com/quickstart/#ultralytics-settings.\n",
            "Ultralytics version: 8.2.99\n",
            "Optuna version: 4.0.0\n",
            "CUDA not available\n",
            "True\n",
            "12.1\n",
            "False\n"
          ]
        },
        {
          "ename": "RuntimeError",
          "evalue": "Found no NVIDIA driver on your system. Please check that you have an NVIDIA GPU and installed a driver from http://www.nvidia.com/Download/index.aspx",
          "output_type": "error",
          "traceback": [
            "\u001b[0;31m---------------------------------------------------------------------------\u001b[0m",
            "\u001b[0;31mRuntimeError\u001b[0m                              Traceback (most recent call last)",
            "\u001b[0;32m<ipython-input-3-71132794286f>\u001b[0m in \u001b[0;36m<cell line: 22>\u001b[0;34m()\u001b[0m\n\u001b[1;32m     20\u001b[0m \u001b[0mprint\u001b[0m\u001b[0;34m(\u001b[0m\u001b[0mtorch\u001b[0m\u001b[0;34m.\u001b[0m\u001b[0mversion\u001b[0m\u001b[0;34m.\u001b[0m\u001b[0mcuda\u001b[0m\u001b[0;34m)\u001b[0m  \u001b[0;31m# This should return '11.8' if installed correctly\u001b[0m\u001b[0;34m\u001b[0m\u001b[0;34m\u001b[0m\u001b[0m\n\u001b[1;32m     21\u001b[0m \u001b[0mprint\u001b[0m\u001b[0;34m(\u001b[0m\u001b[0mtorch\u001b[0m\u001b[0;34m.\u001b[0m\u001b[0mcuda\u001b[0m\u001b[0;34m.\u001b[0m\u001b[0mis_available\u001b[0m\u001b[0;34m(\u001b[0m\u001b[0;34m)\u001b[0m\u001b[0;34m)\u001b[0m\u001b[0;34m\u001b[0m\u001b[0;34m\u001b[0m\u001b[0m\n\u001b[0;32m---> 22\u001b[0;31m \u001b[0mprint\u001b[0m\u001b[0;34m(\u001b[0m\u001b[0mtorch\u001b[0m\u001b[0;34m.\u001b[0m\u001b[0mcuda\u001b[0m\u001b[0;34m.\u001b[0m\u001b[0mget_device_name\u001b[0m\u001b[0;34m(\u001b[0m\u001b[0;36m0\u001b[0m\u001b[0;34m)\u001b[0m\u001b[0;34m)\u001b[0m\u001b[0;34m\u001b[0m\u001b[0;34m\u001b[0m\u001b[0m\n\u001b[0m",
            "\u001b[0;32m/usr/local/lib/python3.10/dist-packages/torch/cuda/__init__.py\u001b[0m in \u001b[0;36mget_device_name\u001b[0;34m(device)\u001b[0m\n\u001b[1;32m    433\u001b[0m         \u001b[0mstr\u001b[0m\u001b[0;34m:\u001b[0m \u001b[0mthe\u001b[0m \u001b[0mname\u001b[0m \u001b[0mof\u001b[0m \u001b[0mthe\u001b[0m \u001b[0mdevice\u001b[0m\u001b[0;34m\u001b[0m\u001b[0;34m\u001b[0m\u001b[0m\n\u001b[1;32m    434\u001b[0m     \"\"\"\n\u001b[0;32m--> 435\u001b[0;31m     \u001b[0;32mreturn\u001b[0m \u001b[0mget_device_properties\u001b[0m\u001b[0;34m(\u001b[0m\u001b[0mdevice\u001b[0m\u001b[0;34m)\u001b[0m\u001b[0;34m.\u001b[0m\u001b[0mname\u001b[0m\u001b[0;34m\u001b[0m\u001b[0;34m\u001b[0m\u001b[0m\n\u001b[0m\u001b[1;32m    436\u001b[0m \u001b[0;34m\u001b[0m\u001b[0m\n\u001b[1;32m    437\u001b[0m \u001b[0;34m\u001b[0m\u001b[0m\n",
            "\u001b[0;32m/usr/local/lib/python3.10/dist-packages/torch/cuda/__init__.py\u001b[0m in \u001b[0;36mget_device_properties\u001b[0;34m(device)\u001b[0m\n\u001b[1;32m    463\u001b[0m         \u001b[0m_CudaDeviceProperties\u001b[0m\u001b[0;34m:\u001b[0m \u001b[0mthe\u001b[0m \u001b[0mproperties\u001b[0m \u001b[0mof\u001b[0m \u001b[0mthe\u001b[0m \u001b[0mdevice\u001b[0m\u001b[0;34m\u001b[0m\u001b[0;34m\u001b[0m\u001b[0m\n\u001b[1;32m    464\u001b[0m     \"\"\"\n\u001b[0;32m--> 465\u001b[0;31m     \u001b[0m_lazy_init\u001b[0m\u001b[0;34m(\u001b[0m\u001b[0;34m)\u001b[0m  \u001b[0;31m# will define _get_device_properties\u001b[0m\u001b[0;34m\u001b[0m\u001b[0;34m\u001b[0m\u001b[0m\n\u001b[0m\u001b[1;32m    466\u001b[0m     \u001b[0mdevice\u001b[0m \u001b[0;34m=\u001b[0m \u001b[0m_get_device_index\u001b[0m\u001b[0;34m(\u001b[0m\u001b[0mdevice\u001b[0m\u001b[0;34m,\u001b[0m \u001b[0moptional\u001b[0m\u001b[0;34m=\u001b[0m\u001b[0;32mTrue\u001b[0m\u001b[0;34m)\u001b[0m\u001b[0;34m\u001b[0m\u001b[0;34m\u001b[0m\u001b[0m\n\u001b[1;32m    467\u001b[0m     \u001b[0;32mif\u001b[0m \u001b[0mdevice\u001b[0m \u001b[0;34m<\u001b[0m \u001b[0;36m0\u001b[0m \u001b[0;32mor\u001b[0m \u001b[0mdevice\u001b[0m \u001b[0;34m>=\u001b[0m \u001b[0mdevice_count\u001b[0m\u001b[0;34m(\u001b[0m\u001b[0;34m)\u001b[0m\u001b[0;34m:\u001b[0m\u001b[0;34m\u001b[0m\u001b[0;34m\u001b[0m\u001b[0m\n",
            "\u001b[0;32m/usr/local/lib/python3.10/dist-packages/torch/cuda/__init__.py\u001b[0m in \u001b[0;36m_lazy_init\u001b[0;34m()\u001b[0m\n\u001b[1;32m    312\u001b[0m         \u001b[0;32mif\u001b[0m \u001b[0;34m\"CUDA_MODULE_LOADING\"\u001b[0m \u001b[0;32mnot\u001b[0m \u001b[0;32min\u001b[0m \u001b[0mos\u001b[0m\u001b[0;34m.\u001b[0m\u001b[0menviron\u001b[0m\u001b[0;34m:\u001b[0m\u001b[0;34m\u001b[0m\u001b[0;34m\u001b[0m\u001b[0m\n\u001b[1;32m    313\u001b[0m             \u001b[0mos\u001b[0m\u001b[0;34m.\u001b[0m\u001b[0menviron\u001b[0m\u001b[0;34m[\u001b[0m\u001b[0;34m\"CUDA_MODULE_LOADING\"\u001b[0m\u001b[0;34m]\u001b[0m \u001b[0;34m=\u001b[0m \u001b[0;34m\"LAZY\"\u001b[0m\u001b[0;34m\u001b[0m\u001b[0;34m\u001b[0m\u001b[0m\n\u001b[0;32m--> 314\u001b[0;31m         \u001b[0mtorch\u001b[0m\u001b[0;34m.\u001b[0m\u001b[0m_C\u001b[0m\u001b[0;34m.\u001b[0m\u001b[0m_cuda_init\u001b[0m\u001b[0;34m(\u001b[0m\u001b[0;34m)\u001b[0m\u001b[0;34m\u001b[0m\u001b[0;34m\u001b[0m\u001b[0m\n\u001b[0m\u001b[1;32m    315\u001b[0m         \u001b[0;31m# Some of the queued calls may reentrantly call _lazy_init();\u001b[0m\u001b[0;34m\u001b[0m\u001b[0;34m\u001b[0m\u001b[0m\n\u001b[1;32m    316\u001b[0m         \u001b[0;31m# we need to just return without initializing in that case.\u001b[0m\u001b[0;34m\u001b[0m\u001b[0;34m\u001b[0m\u001b[0m\n",
            "\u001b[0;31mRuntimeError\u001b[0m: Found no NVIDIA driver on your system. Please check that you have an NVIDIA GPU and installed a driver from http://www.nvidia.com/Download/index.aspx"
          ]
        }
      ],
      "source": [
        "# Check versions of Imports\n",
        "\n",
        "import torch\n",
        "print(torch.__version__)\n",
        "\n",
        "import ultralytics\n",
        "print(f\"Ultralytics version: {ultralytics.__version__}\")\n",
        "\n",
        "import optuna\n",
        "print(\"Optuna version:\", optuna.__version__)\n",
        "\n",
        "# Check Cuda Support\n",
        "if torch.cuda.is_available():\n",
        "    x = torch.rand(3, 3).cuda()  # Move a random tensor to GPU\n",
        "    print(x)\n",
        "else:\n",
        "    print(\"CUDA not available\")\n",
        "\n",
        "print(torch.backends.cudnn.enabled)  # Should return True if cuDNN is installed and enabled\n",
        "print(torch.version.cuda)  # This should return '11.8' if installed correctly\n",
        "print(torch.cuda.is_available())\n",
        "print(torch.cuda.get_device_name(0))\n"
      ]
    },
    {
      "cell_type": "code",
      "execution_count": null,
      "id": "291e1dd1",
      "metadata": {
        "id": "291e1dd1"
      },
      "outputs": [],
      "source": [
        "# torch.cuda.empty_cache()\n",
        "%env WANDB_DISABLED=True"
      ]
    },
    {
      "cell_type": "code",
      "execution_count": null,
      "id": "30fded0e",
      "metadata": {
        "id": "30fded0e",
        "papermill": {
          "duration": 5.01128,
          "end_time": "2023-08-28T07:06:13.548849",
          "exception": false,
          "start_time": "2023-08-28T07:06:08.537569",
          "status": "completed"
        },
        "tags": []
      },
      "outputs": [],
      "source": [
        "import json\n",
        "import logging\n",
        "import shutil\n",
        "from pathlib import Path\n",
        "\n",
        "import matplotlib.pyplot as plt\n",
        "import numpy as np\n",
        "import pandas as pd\n",
        "import yaml\n",
        "from PIL import Image\n",
        "from sklearn.model_selection import train_test_split\n",
        "from tqdm.auto import tqdm\n",
        "from ultralytics import YOLO"
      ]
    },
    {
      "cell_type": "markdown",
      "id": "f1d8cebd",
      "metadata": {
        "id": "f1d8cebd",
        "papermill": {
          "duration": 0.007627,
          "end_time": "2023-08-28T07:06:13.565444",
          "exception": false,
          "start_time": "2023-08-28T07:06:13.557817",
          "status": "completed"
        },
        "tags": []
      },
      "source": [
        "# Preparing Dataset\n",
        "<div style=\"width:100%;height:0;border-bottom: 3px solid #F27B40;margin-bottom: 1rem;\"></div>"
      ]
    },
    {
      "cell_type": "code",
      "execution_count": null,
      "id": "8dbac816",
      "metadata": {
        "id": "8dbac816"
      },
      "outputs": [],
      "source": [
        "# Check if paths exist\n",
        "\n",
        "base_image_path = Path('/content/kaggle/kitti-dataset/data_object_image_2/training/image_2/')\n",
        "base_label_path = Path('/content/kaggle/kitti-dataset-yolo-format/labels/')\n",
        "\n",
        "# Check if the files and directories exist\n",
        "print(f\"Image path exists: {base_image_path.exists()}\")\n",
        "print(f\"Label path exists: {base_label_path.exists()}\")\n",
        "#print(os.listdir(base_label_path))  # Check contents of the label directory\n",
        "\n",
        "# Verify if classes.json exists and read the file\n",
        "classes_file = Path('/content/kaggle/kitti-dataset-yolo-format/classes.json')\n",
        "if classes_file.exists():\n",
        "    with open(classes_file, 'r') as f:\n",
        "        classes = json.load(f)\n",
        "    print(classes)\n",
        "else:\n",
        "    print(f\"File not found: {classes_file}\")"
      ]
    },
    {
      "cell_type": "code",
      "execution_count": null,
      "id": "92df76cc",
      "metadata": {
        "id": "92df76cc",
        "papermill": {
          "duration": 1.041739,
          "end_time": "2023-08-28T07:06:14.643584",
          "exception": false,
          "start_time": "2023-08-28T07:06:13.601845",
          "status": "completed"
        },
        "tags": []
      },
      "outputs": [],
      "source": [
        "\n",
        "img_path = base_image_path\n",
        "\n",
        "ims = sorted(list(img_path.glob('*')))\n",
        "labels = sorted(list(base_label_path.glob('*')))\n",
        "pairs = list(zip(ims,labels))\n",
        "print(len(pairs))\n",
        "pairs[:6]"
      ]
    },
    {
      "cell_type": "markdown",
      "id": "d761f72e",
      "metadata": {
        "id": "d761f72e",
        "papermill": {
          "duration": 0.007347,
          "end_time": "2023-08-28T07:06:14.658584",
          "exception": false,
          "start_time": "2023-08-28T07:06:14.651237",
          "status": "completed"
        },
        "tags": []
      },
      "source": [
        "# Preparing File Structure\n",
        "<div style=\"width:100%;height:0;border-bottom: 3px solid #F4B343;margin-bottom: 1rem;\"></div>\n",
        "\n",
        "```\n",
        "/kaggle/working\n",
        "    |\n",
        "    -train\n",
        "    |   |\n",
        "    |   -000000.png\n",
        "    |   -000000.txt\n",
        "    |   ...\n",
        "    |\n",
        "    -val\n",
        "      |\n",
        "      -000001.png\n",
        "      -000001.txt\n",
        "      ...\n",
        "```"
      ]
    },
    {
      "cell_type": "code",
      "execution_count": null,
      "id": "16f97de4",
      "metadata": {
        "id": "16f97de4",
        "papermill": {
          "duration": 0.019062,
          "end_time": "2023-08-28T07:06:14.685153",
          "exception": false,
          "start_time": "2023-08-28T07:06:14.666091",
          "status": "completed"
        },
        "tags": []
      },
      "outputs": [],
      "source": [
        "train, test = train_test_split(pairs,test_size=0.1,shuffle=True)\n",
        "len(train), len(test)"
      ]
    },
    {
      "cell_type": "code",
      "execution_count": null,
      "id": "9bd7496d",
      "metadata": {
        "id": "9bd7496d",
        "papermill": {
          "duration": 0.015752,
          "end_time": "2023-08-28T07:06:14.708485",
          "exception": false,
          "start_time": "2023-08-28T07:06:14.692733",
          "status": "completed"
        },
        "tags": []
      },
      "outputs": [],
      "source": [
        "train_path = Path('/content/train').resolve()\n",
        "train_path.mkdir(exist_ok=True)\n",
        "valid_path = Path('/content/valid').resolve()\n",
        "valid_path.mkdir(exist_ok=True)"
      ]
    },
    {
      "cell_type": "code",
      "execution_count": null,
      "id": "8562f84b",
      "metadata": {
        "id": "8562f84b",
        "papermill": {
          "duration": 148.409332,
          "end_time": "2023-08-28T07:08:43.125589",
          "exception": false,
          "start_time": "2023-08-28T07:06:14.716257",
          "status": "completed"
        },
        "tags": []
      },
      "outputs": [],
      "source": [
        "for t_img, t_lb in tqdm(train):\n",
        "    # print(oct(os.stat(t_lb).st_mode))\n",
        "    im_path = train_path / t_img.name\n",
        "    lb_path = train_path / t_lb.name\n",
        "    try:\n",
        "        shutil.copy(t_img, im_path)\n",
        "        shutil.copy(t_lb, lb_path)\n",
        "    except PermissionError as e:\n",
        "        print(f\"Permission denied while copying train files {t_img} or {t_lb}: {e}\")"
      ]
    },
    {
      "cell_type": "code",
      "execution_count": null,
      "id": "09d22105",
      "metadata": {
        "id": "09d22105",
        "papermill": {
          "duration": 15.140627,
          "end_time": "2023-08-28T07:08:58.274820",
          "exception": false,
          "start_time": "2023-08-28T07:08:43.134193",
          "status": "completed"
        },
        "tags": []
      },
      "outputs": [],
      "source": [
        "for t_img, t_lb in tqdm(test):\n",
        "    im_path = valid_path / t_img.name\n",
        "    lb_path = valid_path / t_lb.name\n",
        "    try:\n",
        "        shutil.copy(t_img,im_path)\n",
        "        shutil.copy(t_lb,lb_path)\n",
        "    except PermissionError as e:\n",
        "        print(f\"Permission denied while copying validations files {t_img} or {t_lb}: {e}\")"
      ]
    },
    {
      "cell_type": "markdown",
      "id": "8faed137",
      "metadata": {
        "id": "8faed137",
        "papermill": {
          "duration": 0.008316,
          "end_time": "2023-08-28T07:08:58.291746",
          "exception": false,
          "start_time": "2023-08-28T07:08:58.283430",
          "status": "completed"
        },
        "tags": []
      },
      "source": [
        "# YAML file for the data\n",
        "<div style=\"width:100%;height:0;border-bottom: 3px solid #F4CE45;margin-bottom: 1rem;\"></div>"
      ]
    },
    {
      "cell_type": "code",
      "execution_count": null,
      "id": "35147edb",
      "metadata": {
        "id": "35147edb",
        "papermill": {
          "duration": 0.017343,
          "end_time": "2023-08-28T07:08:58.317247",
          "exception": false,
          "start_time": "2023-08-28T07:08:58.299904",
          "status": "completed"
        },
        "tags": []
      },
      "outputs": [],
      "source": [
        "yaml_file = 'names:\\n'\n",
        "yaml_file += '\\n'.join(f'- {c}' for c in classes)\n",
        "yaml_file += f'\\nnc: {len(classes)}'\n",
        "yaml_file += f'\\ntrain: {str(train_path)}\\nval: {str(valid_path)}'\n",
        "yaml_file_path = '/content/kitti.yaml'\n",
        "with open(yaml_file_path,'w') as f:\n",
        "    f.write(yaml_file)\n",
        "\n",
        "# Read and display the contents of the YAML file\n",
        "with open(yaml_file_path, 'r') as file:\n",
        "    contents = yaml.safe_load(file)\n",
        "    print(contents)"
      ]
    },
    {
      "cell_type": "markdown",
      "id": "02c62a77",
      "metadata": {
        "id": "02c62a77",
        "papermill": {
          "duration": 0.012348,
          "end_time": "2023-08-28T07:08:59.401495",
          "exception": false,
          "start_time": "2023-08-28T07:08:59.389147",
          "status": "completed"
        },
        "tags": []
      },
      "source": [
        "# Model\n",
        "<div style=\"width:100%;height:0;border-bottom: 3px solid #F27B40;margin-bottom: 1rem;\"></div>"
      ]
    },
    {
      "cell_type": "code",
      "execution_count": null,
      "id": "a5969edd",
      "metadata": {
        "id": "a5969edd",
        "papermill": {
          "duration": 0.986395,
          "end_time": "2023-08-28T07:09:00.399511",
          "exception": false,
          "start_time": "2023-08-28T07:08:59.413116",
          "status": "completed"
        },
        "tags": []
      },
      "outputs": [],
      "source": [
        "#model = YOLO('yolov8n.yaml')\n",
        "model = YOLO('yolov10n.pt')"
      ]
    },
    {
      "cell_type": "markdown",
      "id": "8a90fae7",
      "metadata": {
        "id": "8a90fae7",
        "papermill": {
          "duration": 0.011099,
          "end_time": "2023-08-28T07:09:00.421641",
          "exception": false,
          "start_time": "2023-08-28T07:09:00.410542",
          "status": "completed"
        },
        "tags": []
      },
      "source": [
        "# Logger"
      ]
    },
    {
      "cell_type": "code",
      "execution_count": null,
      "id": "cfe3dda9",
      "metadata": {
        "id": "cfe3dda9"
      },
      "outputs": [],
      "source": [
        "# Set up logging for Optuna training\n",
        "#logger = logging.getLogger('optuna_logger')\n",
        "\n",
        "# Set up logging for Model training\n",
        "logger = logging.getLogger('model_logger')\n",
        "\n",
        "logger.setLevel(logging.DEBUG)  # Log all levels of messages\n",
        "\n",
        "# Create a file handler\n",
        "fh = logging.FileHandler('/content/model_training.log')\n",
        "fh.setLevel(logging.DEBUG)\n",
        "\n",
        "# Create a console handler for output to the terminal\n",
        "ch = logging.StreamHandler()\n",
        "ch.setLevel(logging.INFO)\n",
        "\n",
        "# Create a formatter and set it for the handlers\n",
        "formatter = logging.Formatter('%(asctime)s - %(levelname)s - %(message)s')\n",
        "fh.setFormatter(formatter)\n",
        "ch.setFormatter(formatter)\n",
        "\n",
        "# Add the handlers to the logger\n",
        "logger.addHandler(fh)\n",
        "logger.addHandler(ch)\n"
      ]
    },
    {
      "cell_type": "code",
      "execution_count": null,
      "id": "8337f6dd",
      "metadata": {
        "id": "8337f6dd"
      },
      "outputs": [],
      "source": [
        "# Define the objective function for Optuna\n",
        "results = None\n",
        "\n",
        "train_with_optuna = False\n",
        "\n",
        "if(train_with_optuna):\n",
        "    # Define the objective function for Optuna\n",
        "    def objective(trial):\n",
        "        try:\n",
        "            # Suggest hyperparameters\n",
        "            lr = trial.suggest_float('lr', 1e-5, 1e-3, log=True)\n",
        "            batch_size = trial.suggest_int('batch_size', 8, 64, step=8)\n",
        "            num_epochs = trial.suggest_int('epochs', 5, 50)\n",
        "            momentum = trial.suggest_float('momentum', 0.7, 0.99)\n",
        "            weight_decay = trial.suggest_float('weight_decay', 1e-6, 1e-4)\n",
        "\n",
        "            print(\"Batch size\",batch_size)\n",
        "\n",
        "            logger.info(f\"Trial {trial.number}: Starting training with batch_size={batch_size}, lr={lr}, epochs={num_epochs}, momentum={momentum}, weight_decay={weight_decay}\")\n",
        "\n",
        "            # Set up training\n",
        "            results = model.train(\n",
        "                data=yaml_file_path,\n",
        "                epochs=num_epochs,\n",
        "                batch=batch_size,\n",
        "                imgsz=640,\n",
        "                lr0=lr,\n",
        "                momentum=momentum,\n",
        "                weight_decay=weight_decay,\n",
        "                device=0\n",
        "            )\n",
        "\n",
        "            valid_results = model.val()\n",
        "\n",
        "            # Get the validation loss\n",
        "            val_fitness = valid_results.fitness\n",
        "            logger.info(f\"Trial {trial.number}: Finished training with validation fitness={val_fitness}\")\n",
        "\n",
        "            return val_fitness\n",
        "\n",
        "        except Exception as e:\n",
        "            # Print the error message\n",
        "            logger.error(f\"An error occurred during training in trial {trial.number}: {e}\")\n",
        "            torch.cuda.empty_cache()\n",
        "            # Return a high loss value to indicate failure\n",
        "            return float('0')  # You can use a large number like 1e6 instead of inf\n",
        "\n",
        "    # Create an Optuna study to optimize the objective function\n",
        "    logger.info(\"Starting Optuna study...\")\n",
        "    study = optuna.create_study(direction='maximize')\n",
        "    study.optimize(objective, n_trials=10)  # You can change n_trials for more trials\n",
        "\n",
        "    # Print and log the best hyperparameters found by Optuna\n",
        "    logger.info(f\"Best hyperparameters: {study.best_params}\")\n",
        "    print(f\"Best hyperparameters: {study.best_params}\")\n",
        "else:\n",
        "    try:\n",
        "        # Hyperparameters suggested by optuna\n",
        "        lr = 9.62158738392828e-05\n",
        "        batch_size = 48\n",
        "        num_epochs = 38\n",
        "        momentum = 0.8082069186240672\n",
        "        weight_decay = 2.7006346638802374e-05\n",
        "\n",
        "        print(\"Training of model started\")\n",
        "\n",
        "        logger.info(f\"Starting training with batch_size={batch_size}, lr={lr}, epochs={num_epochs}, momentum={momentum}, weight_decay={weight_decay}\")\n",
        "\n",
        "        # Set up training\n",
        "        results = model.train(\n",
        "            data=yaml_file_path,\n",
        "            epochs=num_epochs,\n",
        "            batch=batch_size,\n",
        "            imgsz=640,\n",
        "            lr0=lr,\n",
        "            momentum=momentum,\n",
        "            weight_decay=weight_decay,\n",
        "            device=0\n",
        "        )\n",
        "        print(\"Training of model ended\")\n",
        "\n",
        "        logger.info(f\"Starting validating the model\")\n",
        "        valid_results = model.val()\n",
        "\n",
        "        # Get the validation loss\n",
        "        val_fitness = valid_results.fitness\n",
        "        logger.info(f\"Finished training with validation fitness={val_fitness}\")\n",
        "        print(f\"Finished training with validation fitness={val_fitness}\")\n",
        "\n",
        "    except Exception as e:\n",
        "        # Print the error message\n",
        "        logger.error(f\"An error occurred during training in trial: {e}\")\n",
        "        print(f\"An error occurred during training in trial: {e}\")\n",
        "        torch.cuda.empty_cache()"
      ]
    },
    {
      "cell_type": "markdown",
      "id": "7bc9ad60",
      "metadata": {
        "id": "7bc9ad60",
        "papermill": {
          "duration": 0.741838,
          "end_time": "2023-08-28T07:44:37.803208",
          "exception": false,
          "start_time": "2023-08-28T07:44:37.061370",
          "status": "completed"
        },
        "tags": []
      },
      "source": [
        "# Results\n",
        "<div style=\"width:100%;height:0;border-bottom: 3px solid #F25F3E;margin-bottom: 1rem;\"></div>"
      ]
    },
    {
      "cell_type": "code",
      "execution_count": null,
      "id": "aaace3a3",
      "metadata": {
        "id": "aaace3a3",
        "papermill": {
          "duration": 1.295295,
          "end_time": "2023-08-28T07:44:39.846088",
          "exception": false,
          "start_time": "2023-08-28T07:44:38.550793",
          "status": "completed"
        },
        "tags": []
      },
      "outputs": [],
      "source": [
        "result_image_path = '/content/runs/detect/train/results.png'\n",
        "\n",
        "if os.path.exists(result_image_path):\n",
        "    # Load and display the image\n",
        "    img = Image.open(result_image_path)\n",
        "    plt.figure(figsize=(100, 100))  # Adjust the figure size if needed\n",
        "    plt.imshow(img)\n",
        "    plt.axis('off')  # Hide the axis\n",
        "    plt.show()\n",
        "else:\n",
        "    print(f\"Image not found at path: {result_image_path}\")"
      ]
    },
    {
      "cell_type": "code",
      "execution_count": null,
      "id": "60fb2f56",
      "metadata": {
        "id": "60fb2f56",
        "papermill": {
          "duration": 1.780661,
          "end_time": "2023-08-28T07:44:42.440146",
          "exception": false,
          "start_time": "2023-08-28T07:44:40.659485",
          "status": "completed"
        },
        "tags": []
      },
      "outputs": [],
      "source": [
        "#Plot Confusion Matrix\n",
        "\n",
        "plt.figure(figsize=(10,20))\n",
        "plt.imshow(Image.open('/content/runs/detect/train/confusion_matrix.png'))\n",
        "plt.axis('off')\n",
        "plt.show()"
      ]
    },
    {
      "cell_type": "markdown",
      "id": "33b5ba4b",
      "metadata": {
        "id": "33b5ba4b",
        "papermill": {
          "duration": 0.802017,
          "end_time": "2023-08-28T07:44:43.996632",
          "exception": false,
          "start_time": "2023-08-28T07:44:43.194615",
          "status": "completed"
        },
        "tags": []
      },
      "source": [
        "# Predictions\n",
        "<div style=\"width:100%;height:0;border-bottom: 3px solid #CEF64B;margin-bottom: 1rem;\"></div>"
      ]
    },
    {
      "cell_type": "code",
      "execution_count": null,
      "id": "cd11d9cc",
      "metadata": {
        "id": "cd11d9cc",
        "papermill": {
          "duration": 3.341034,
          "end_time": "2023-08-28T07:44:48.108126",
          "exception": false,
          "start_time": "2023-08-28T07:44:44.767092",
          "status": "completed"
        },
        "tags": []
      },
      "outputs": [],
      "source": [
        "preds = model.predict([test[idx][0] for idx in np.random.randint(0,len(test),(20,))],save=True)"
      ]
    },
    {
      "cell_type": "code",
      "execution_count": null,
      "id": "701d4a40",
      "metadata": {
        "id": "701d4a40",
        "papermill": {
          "duration": 0.754302,
          "end_time": "2023-08-28T07:44:49.612250",
          "exception": false,
          "start_time": "2023-08-28T07:44:48.857948",
          "status": "completed"
        },
        "tags": []
      },
      "outputs": [],
      "source": [
        "preds = list(Path('/content/runs/detect/train3').glob('*'))"
      ]
    },
    {
      "cell_type": "code",
      "execution_count": null,
      "id": "3a21f0ea",
      "metadata": {
        "id": "3a21f0ea",
        "papermill": {
          "duration": 10.74942,
          "end_time": "2023-08-28T07:45:01.102468",
          "exception": false,
          "start_time": "2023-08-28T07:44:50.353048",
          "status": "completed"
        },
        "tags": []
      },
      "outputs": [],
      "source": [
        "def plot_images(images):\n",
        "    num_images = len(images)\n",
        "    rows = num_images\n",
        "    cols = 1\n",
        "    fig, axes = plt.subplots(rows, cols, figsize=(15, 80))\n",
        "    for ax in axes.flat:\n",
        "        ax.axis('off')\n",
        "    for i, img_path in enumerate(images):\n",
        "        img = Image.open(img_path)\n",
        "        axes[i].imshow(img)\n",
        "\n",
        "    plt.tight_layout()\n",
        "    plt.show()\n",
        "\n",
        "plot_images(preds)"
      ]
    },
    {
      "cell_type": "markdown",
      "id": "8f9066b9",
      "metadata": {
        "id": "8f9066b9",
        "papermill": {
          "duration": 1.117195,
          "end_time": "2023-08-28T07:45:03.415659",
          "exception": false,
          "start_time": "2023-08-28T07:45:02.298464",
          "status": "completed"
        },
        "tags": []
      },
      "source": [
        "## Files cleanup"
      ]
    },
    {
      "cell_type": "code",
      "execution_count": null,
      "id": "fdb031cf",
      "metadata": {
        "id": "fdb031cf",
        "papermill": {
          "duration": 2.258814,
          "end_time": "2023-08-28T07:45:06.837887",
          "exception": false,
          "start_time": "2023-08-28T07:45:04.579073",
          "status": "completed"
        },
        "tags": []
      },
      "outputs": [],
      "source": [
        "#!cp /content/runs/detect/train/weights/best.pt /kaggle/working/"
      ]
    },
    {
      "cell_type": "code",
      "execution_count": null,
      "id": "gtaiDUglZaQE",
      "metadata": {
        "id": "gtaiDUglZaQE"
      },
      "outputs": [],
      "source": [
        "# import shutil\n",
        "\n",
        "# Define the directory to be zipped and the output zip file\n",
        "directory_to_zip = '/content/runs/detect'\n",
        "output_zip_file = 'results.zip'\n",
        "\n",
        "# Create a zip file\n",
        "shutil.make_archive(output_zip_file.replace('.zip', ''), 'zip', directory_to_zip)\n"
      ]
    },
    {
      "cell_type": "code",
      "execution_count": null,
      "id": "b4028115",
      "metadata": {
        "id": "b4028115",
        "papermill": {
          "duration": 3.891567,
          "end_time": "2023-08-28T07:45:11.909850",
          "exception": false,
          "start_time": "2023-08-28T07:45:08.018283",
          "status": "completed"
        },
        "tags": []
      },
      "outputs": [],
      "source": [
        "# # Step 1: Set the locale to UTF-8\n",
        "# !export LC_ALL=C.UTF-8\n",
        "# !export LANG=C.UTF-8\n",
        "\n",
        "# # Step 2: Run the zip command\n",
        "# !zip -r results.zip /content/runs/detect\n",
        "# #!zip -r results.zip /content/runs/detect"
      ]
    },
    {
      "cell_type": "code",
      "execution_count": null,
      "id": "2ef1d233",
      "metadata": {
        "id": "2ef1d233",
        "papermill": {
          "duration": 3.100781,
          "end_time": "2023-08-28T07:45:16.167959",
          "exception": false,
          "start_time": "2023-08-28T07:45:13.067178",
          "status": "completed"
        },
        "tags": []
      },
      "outputs": [],
      "source": [
        "# !rm -rf yolov8n-kitti wandb train.cache valid.cache yolov8n.pt train valid"
      ]
    }
  ],
  "metadata": {
    "accelerator": "TPU",
    "colab": {
      "gpuType": "V28",
      "provenance": []
    },
    "kernelspec": {
      "display_name": "Python 3",
      "name": "python3"
    },
    "language_info": {
      "codemirror_mode": {
        "name": "ipython",
        "version": 3
      },
      "file_extension": ".py",
      "mimetype": "text/x-python",
      "name": "python",
      "nbconvert_exporter": "python",
      "pygments_lexer": "ipython3",
      "version": "3.12.2"
    },
    "papermill": {
      "default_parameters": {},
      "duration": 2379.030403,
      "end_time": "2023-08-28T07:45:23.657296",
      "environment_variables": {},
      "exception": null,
      "input_path": "__notebook__.ipynb",
      "output_path": "__notebook__.ipynb",
      "parameters": {},
      "start_time": "2023-08-28T07:05:44.626893",
      "version": "2.4.0"
    }
  },
  "nbformat": 4,
  "nbformat_minor": 5
}
